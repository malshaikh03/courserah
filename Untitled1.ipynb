{
 "cells": [
  {
   "cell_type": "markdown",
   "id": "1ba84c6a",
   "metadata": {},
   "source": [
    "# Note book Title"
   ]
  },
  {
   "cell_type": "markdown",
   "id": "eeb50cb7",
   "metadata": {},
   "source": [
    "## Introduction"
   ]
  },
  {
   "cell_type": "markdown",
   "id": "770dbeee",
   "metadata": {},
   "source": [
    "#### Data Science Langauges:\n",
    "- Python\n",
    "- Ruby"
   ]
  },
  {
   "cell_type": "markdown",
   "id": "d8a0df4b",
   "metadata": {},
   "source": [
    "#### Dat Science Libraries\n",
    "- Pandas\n",
    "- Numpy\n",
    "- Scict-Learn"
   ]
  },
  {
   "cell_type": "markdown",
   "id": "45d48bdc",
   "metadata": {},
   "source": [
    "#### Data Science Tools\n",
    "- Jupyter\n",
    "- Google colab\n",
    "- IBM SPSS"
   ]
  },
  {
   "cell_type": "markdown",
   "id": "3e50feda",
   "metadata": {},
   "source": [
    "### Arthemetic Examples"
   ]
  },
  {
   "cell_type": "code",
   "execution_count": 1,
   "id": "1c02fd53",
   "metadata": {},
   "outputs": [
    {
     "name": "stdout",
     "output_type": "stream",
     "text": [
      "12\n",
      "0.7142857142857143\n"
     ]
    }
   ],
   "source": [
    "# multiply and add numbers\n",
    "x , y = 5 , 7\n",
    "print(x+y)\n",
    "print(x/y)"
   ]
  },
  {
   "cell_type": "code",
   "execution_count": 4,
   "id": "cca0c061",
   "metadata": {},
   "outputs": [
    {
     "name": "stdout",
     "output_type": "stream",
     "text": [
      "6.0\n"
     ]
    }
   ],
   "source": [
    "def m2h(minutes):\n",
    "      return  minutes/60\n",
    "print(m2h(360))"
   ]
  },
  {
   "cell_type": "markdown",
   "id": "43e00dca",
   "metadata": {},
   "source": [
    "### Objectives:\n",
    "- create Jubyter notebook\n",
    "- create mark down\n",
    "- make arthmtic examples\n",
    "- create function"
   ]
  },
  {
   "cell_type": "markdown",
   "id": "3fed4918",
   "metadata": {},
   "source": [
    "## Author \n",
    "### Mohamed alshaikh"
   ]
  },
  {
   "cell_type": "code",
   "execution_count": null,
   "id": "36864b03",
   "metadata": {},
   "outputs": [],
   "source": []
  }
 ],
 "metadata": {
  "kernelspec": {
   "display_name": "Python 3 (ipykernel)",
   "language": "python",
   "name": "python3"
  },
  "language_info": {
   "codemirror_mode": {
    "name": "ipython",
    "version": 3
   },
   "file_extension": ".py",
   "mimetype": "text/x-python",
   "name": "python",
   "nbconvert_exporter": "python",
   "pygments_lexer": "ipython3",
   "version": "3.9.13"
  }
 },
 "nbformat": 4,
 "nbformat_minor": 5
}
